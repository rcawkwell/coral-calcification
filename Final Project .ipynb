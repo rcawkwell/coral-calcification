{
 "cells": [
  {
   "cell_type": "markdown",
   "metadata": {},
   "source": [
    "### Final Project: Modeling Coral Bleaching\n",
    "#### Rebecca Cawkwell rgc2137 "
   ]
  },
  {
   "cell_type": "code",
   "execution_count": 1,
   "metadata": {},
   "outputs": [],
   "source": [
    "import numpy as np\n",
    "import matplotlib.pyplot as plt\n",
    "%matplotlib inline\n",
    "import random\n",
    "from IPython.display import Image"
   ]
  },
  {
   "cell_type": "code",
   "execution_count": 2,
   "metadata": {},
   "outputs": [],
   "source": [
    "#Image(filename ='before_after.jpg')"
   ]
  },
  {
   "cell_type": "markdown",
   "metadata": {},
   "source": [
    "#  Part 1: Model Construction"
   ]
  },
  {
   "cell_type": "code",
   "execution_count": null,
   "metadata": {},
   "outputs": [],
   "source": []
  },
  {
   "cell_type": "markdown",
   "metadata": {},
   "source": [
    "Bleaching (Seciton 2.2.3, Equation 4): \n",
    "This equation models the transition from Healthy to pale to bleached.  The variables respond \n",
    "\n",
    "1. g_b is the Bleaching Constant (determined in the paper - constant regardless of coral species)\n",
    "2. c_sp is the species constant (dependent on species of coral)\n",
    "3. alpha - the adapted response temperature depedence (equation below will calculate)\n",
    "4. beta - the thermal envelope  (equation below will calcualte)\n",
    "5. matrix_1 - corresponds to the transition between the four coral states (in this case only effecting Healthy, Pale, and Bleached)\n",
    "6. coral - is the current matrix that represents the coral that is healthy, recovering, pale, and bleached"
   ]
  },
  {
   "cell_type": "code",
   "execution_count": 3,
   "metadata": {},
   "outputs": [],
   "source": [
    "#modeling bleaching \n",
    "def bleaching(g_b, c_sp, Q, alpha, beta, coral): \n",
    "    #matrix_1 = np.array([[1,0,-1,0],[0,0,0,0],[0,0,.5,-.5],[0,0,0,.25]])\n",
    "    matrix_1 = np.array([[.1,0,0,0],[0,0,0,0],[0,0,.005,-.005],[0,0,0,.0025]])\n",
    "    mat_1 = np.matmul(matrix_1, coral)\n",
    "    coral = g_b*c_sp*Q*alpha*beta*mat_1\n",
    "    #print(coral)\n",
    "    return coral"
   ]
  },
  {
   "cell_type": "markdown",
   "metadata": {},
   "source": [
    "Recovery from Bleaching (2.2.4 / Equation 5) \n",
    "\n",
    "After changes in temperature, coral can recover from bleaching. Coral that is in a recovery state has a healthy appearance but has a supressed calcificaiton, growth and reproduction. \n",
    "\n",
    "The variables used explained: \n",
    "1. g_m is the mortality constant (determined in the paper) \n",
    "2. c_sp, alpha, beta, coral are the same as above \n",
    "3. Q is the daily average solar irradiaiton (for day of year and the latitude)\n",
    "4. matrix_1 is used in the first half of the equation to represent the possibility that a coral that is in recovery, even during a period of time when the temperature is acceptable, the coral could still die. \n",
    "5. matrix_2 represents the recovery from bleaching from bleached to pale, pale to recovering, and recovering to healthy"
   ]
  },
  {
   "cell_type": "code",
   "execution_count": 4,
   "metadata": {},
   "outputs": [],
   "source": [
    "#Recovery from bleaching \n",
    "def recovering_from_bleaching(C_sp, Q, alpha, beta, coral): \n",
    "    matrix_1 = np.array([[0,0,0,0], [0,0,0,0], [0,0,0,0], [0,0,0,-1]])\n",
    "    matrix_2 = np.array([[0,.5*C_sp,0,0], [0,-1*.5*C_sp,C_sp,0], [0,0,-1*C_sp,8/C_sp], [0,0,0,-8/C_sp]])\n",
    "    mat_1= np.matmul(matrix_1, coral)\n",
    "    mat_2 = np.matmul(matrix_2, coral)\n",
    "    g_m = .4\n",
    "    g_r = .2\n",
    "    #possibility of mortality\n",
    "    coral = g_m*C_sp*Q*mat_1\n",
    "    #possibility of recovery\n",
    "    coral += g_r*C_sp*Q*alpha*beta*mat_2\n",
    "    return coral"
   ]
  },
  {
   "cell_type": "markdown",
   "metadata": {},
   "source": [
    "Growth Constant (Section 2.2.5/ Equation 6) \n",
    "\n",
    "This equation models the growth of coral, natural mortality and constraints on frowth due to carrying capacity. \n",
    "\n",
    "The variables used: \n",
    "1. g_c - growth constant - chosen as .002\n",
    "2. C_sp, Q, alpha, beta are the same as above \n",
    "3. matrix_1 represents that this formula only serves to model growth of healthy coral\n",
    "4. bottleneck - represents the logisitc growth, that shows there is a reduction in the growth rate as the total population approaches carrying capacity (in this case carrying capacity is set to 100% aka 1) "
   ]
  },
  {
   "cell_type": "code",
   "execution_count": 5,
   "metadata": {},
   "outputs": [],
   "source": [
    "#growth constant \n",
    "def growth(c_sp, Q, alpha, beta, coral): \n",
    "    matrix_1 = np.array([[1,0,0,0],[0,0,0,0],[0,0,0,0],[0,0,0,0]])\n",
    "    K = 1 #carrying capacity\n",
    "    bottleneck = K - coral_health[0]\n",
    "    g_c = .002\n",
    "    mat_1 = np.matmul(matrix_1, coral)\n",
    "    coral = g_c*c_sp*Q*alpha*beta*bottleneck*mat_1\n",
    "    return coral"
   ]
  },
  {
   "cell_type": "markdown",
   "metadata": {},
   "source": [
    "Determining the adapted temperature range (alpha) Equation 7: "
   ]
  },
  {
   "cell_type": "code",
   "execution_count": 6,
   "metadata": {},
   "outputs": [],
   "source": [
    "#modeling the temperature responses (alpha)\n",
    "def alpha_calc(T, T_opt, dt): \n",
    "    T_lo = T_opt - (1/np.exp(1/3))*dt\n",
    "    T_hi = T_lo + dt\n",
    "    #if T > T_lo: \n",
    "        #else: \n",
    "    #    return -alpha_max\n",
    "    return -1*(T-T_lo)*((T-T_lo)**2 -dt**2)*4*10**(-4)*np.exp(-.33*(dt-10))\n"
   ]
  },
  {
   "cell_type": "markdown",
   "metadata": {},
   "source": [
    "2.3 The thermal envelope (beta) Equation 8"
   ]
  },
  {
   "cell_type": "code",
   "execution_count": 7,
   "metadata": {},
   "outputs": [],
   "source": [
    "#beta \n",
    "def beta_calc(T_opt): \n",
    "    E_a = 50\n",
    "    R = 8.314 #j/mol\n",
    "    return np.exp(E_a/R*(1/300-1/T_opt))"
   ]
  },
  {
   "cell_type": "markdown",
   "metadata": {},
   "source": [
    "### Testing Modeling"
   ]
  },
  {
   "cell_type": "markdown",
   "metadata": {},
   "source": [
    "Given in 1998 (before the first major coral bleaching event), 11% of coral was dead and 16% not fully functional due to bleaching. "
   ]
  },
  {
   "cell_type": "code",
   "execution_count": 8,
   "metadata": {},
   "outputs": [],
   "source": [
    "healthy = np.array([73.])\n",
    "recovering = np.array([0.])\n",
    "pale = np.array([16.])\n",
    "dead = np.array([11.])\n",
    "coral_health = np.array([healthy, recovering, pale, dead ])"
   ]
  },
  {
   "cell_type": "code",
   "execution_count": 9,
   "metadata": {},
   "outputs": [],
   "source": [
    "t = 1\n",
    "g_b = 8\n",
    "c_sp = 1 \n",
    "Q = 1 \n",
    "T_opt = 16\n",
    "dt = 5\n",
    "T = [29,28, 29.7, 30.3, 31.8, 30, 29, 28, 26, 26, 27, 29]\n",
    "beta = beta_calc(T_opt) \n",
    "\n",
    "while t < 12: \n",
    "    alpha = alpha_calc(T_opt, T[t], dt)\n",
    "    coral_health += recovering_from_bleaching(c_sp, Q, alpha, beta, coral_health)\n",
    "    coral_health += growth(c_sp, Q, alpha, beta, coral_health)\n",
    "    #coral_health -= bleaching(g_b, c_sp, Q, alpha, beta, coral_health)\n",
    "\n",
    "    healthy = np.append(healthy,coral_health[0])\n",
    "    recovering = np.append(recovering, coral_health[1])\n",
    "    pale = np.append(pale,coral_health[2])\n",
    "    dead = np.append(dead,coral_health[3])\n",
    "    t += 1"
   ]
  },
  {
   "cell_type": "code",
   "execution_count": 10,
   "metadata": {},
   "outputs": [
    {
     "data": {
      "image/png": "[encoded data removed]",
      "text/plain": [
       "<Figure size 432x288 with 1 Axes>"
      ]
     },
     "metadata": {
      "needs_background": "light"
     },
     "output_type": "display_data"
    }
   ],
   "source": [
    "months = ['0', '1', '2', '3', '4', '5', '6', '7', '8', '9', '10', '11']\n",
    "ind = [x for x, _ in enumerate(months)]\n",
    "\n",
    "plt.bar(ind, dead, width=0.8, label='dead', color='gold', bottom=pale+recovering+healthy)\n",
    "plt.bar(ind, pale, width=0.8, label='pale', color='#D6D6D6', bottom=recovering+healthy)\n",
    "plt.bar(ind, recovering, width=0.8, label='recovering', color='#629677', bottom=healthy)\n",
    "plt.bar(ind, healthy, width=0.8, label='healthy', color='#F99FA8')\n",
    "\n",
    "plt.xticks(ind, months)\n",
    "plt.ylabel(\"Percentage of Coral\")\n",
    "plt.xlabel(\"Time\")\n",
    "plt.legend(loc=\"upper right\")\n",
    "plt.title(\"Percentage of Coral over Time\")\n",
    "\n",
    "plt.show()"
   ]
  },
  {
   "cell_type": "code",
   "execution_count": 11,
   "metadata": {},
   "outputs": [
    {
     "data": {
      "image/png": "[encoded data removed]",
      "text/plain": [
       "<Figure size 432x288 with 1 Axes>"
      ]
     },
     "metadata": {
      "needs_background": "light"
     },
     "output_type": "display_data"
    }
   ],
   "source": [
    "# Manipulating the Variables \n",
    "healthy = np.array([73.])\n",
    "recovering = np.array([0.])\n",
    "pale = np.array([16.])\n",
    "dead = np.array([11.])\n",
    "coral_health = np.array([healthy, recovering, pale, dead ])\n",
    "t = 1\n",
    "g_b = 8\n",
    "c_sp = .2\n",
    "Q = 1 \n",
    "T_opt = 16\n",
    "dt = 5\n",
    "T = [29,28, 29.7, 30.3, 31.8, 30, 29, 28, 26, 26, 27, 29]\n",
    "beta = beta_calc(T_opt) \n",
    "\n",
    "while t < 12: \n",
    "    alpha = alpha_calc(T_opt, T[t], dt)\n",
    "    coral_health += recovering_from_bleaching(c_sp, Q, alpha, beta, coral_health)\n",
    "    coral_health += growth(c_sp, Q, alpha, beta, coral_health)\n",
    "    #coral_health -= bleaching(g_b, c_sp, Q, alpha, beta, coral_health)\n",
    "\n",
    "    healthy = np.append(healthy,coral_health[0])\n",
    "    recovering = np.append(recovering, coral_health[1])\n",
    "    pale = np.append(pale,coral_health[2])\n",
    "    dead = np.append(dead,coral_health[3])\n",
    "    t += 1\n",
    "plt.bar(ind, dead, width=0.8, label='dead', color='gold', bottom=pale+recovering+healthy)\n",
    "plt.bar(ind, pale, width=0.8, label='pale', color='#D6D6D6', bottom=recovering+healthy)\n",
    "plt.bar(ind, recovering, width=0.8, label='recovering', color='#629677', bottom=healthy)\n",
    "plt.bar(ind, healthy, width=0.8, label='healthy', color='#F99FA8')\n",
    "\n",
    "plt.xticks(ind, months)\n",
    "plt.ylabel(\"Percentage of Coral\")\n",
    "plt.xlabel(\"Time\")\n",
    "plt.legend(loc=\"upper right\")\n",
    "plt.title(\"Percentage of Coral over Time\")\n",
    "\n",
    "plt.show()"
   ]
  },
  {
   "cell_type": "code",
   "execution_count": 12,
   "metadata": {},
   "outputs": [
    {
     "data": {
      "image/png": "[encoded data removed]",
      "text/plain": [
       "<Figure size 432x288 with 1 Axes>"
      ]
     },
     "metadata": {
      "needs_background": "light"
     },
     "output_type": "display_data"
    }
   ],
   "source": [
    "# Manipulating the Variables \n",
    "healthy = np.array([73.])\n",
    "recovering = np.array([0.])\n",
    "pale = np.array([16.])\n",
    "dead = np.array([11.])\n",
    "coral_health = np.array([healthy, recovering, pale, dead ])\n",
    "t = 1\n",
    "g_b = 8\n",
    "c_sp = .2\n",
    "Q = 1 \n",
    "T_opt = 30\n",
    "dt = 5\n",
    "T = [29,28, 29.7, 30.3, 31.8, 30, 29, 28, 26, 26, 27, 29]\n",
    "beta = beta_calc(T_opt) \n",
    "\n",
    "while t < 12: \n",
    "    alpha = alpha_calc(T_opt, T[t], dt)\n",
    "    coral_health += recovering_from_bleaching(c_sp, Q, alpha, beta, coral_health)\n",
    "    coral_health += growth(c_sp, Q, alpha, beta, coral_health)\n",
    "    #coral_health -= bleaching(g_b, c_sp, Q, alpha, beta, coral_health)\n",
    "\n",
    "    healthy = np.append(healthy,coral_health[0])\n",
    "    recovering = np.append(recovering, coral_health[1])\n",
    "    pale = np.append(pale,coral_health[2])\n",
    "    dead = np.append(dead,coral_health[3])\n",
    "    t += 1\n",
    "plt.bar(ind, dead, width=0.8, label='dead', color='gold', bottom=pale+recovering+healthy)\n",
    "plt.bar(ind, pale, width=0.8, label='pale', color='#D6D6D6', bottom=recovering+healthy)\n",
    "plt.bar(ind, recovering, width=0.8, label='recovering', color='#629677', bottom=healthy)\n",
    "plt.bar(ind, healthy, width=0.8, label='healthy', color='#F99FA8')\n",
    "\n",
    "plt.xticks(ind, months)\n",
    "plt.ylabel(\"Percentage of Coral\")\n",
    "plt.xlabel(\"Time\")\n",
    "plt.legend(loc=\"upper right\")\n",
    "plt.title(\"Percentage of Coral over Time\")\n",
    "\n",
    "plt.show()"
   ]
  },
  {
   "cell_type": "markdown",
   "metadata": {
    "collapsed": true
   },
   "source": [
    "##  Part 2: Average Yearly Calcificaiton"
   ]
  },
  {
   "cell_type": "markdown",
   "metadata": {},
   "source": [
    "The article concludes with a simplified equation to model the average yearly calcification of coral. Below models the average calcification equation given at the end of the article"
   ]
  },
  {
   "cell_type": "code",
   "execution_count": 13,
   "metadata": {},
   "outputs": [],
   "source": [
    "def avg_calcification(dt, T_ave):\n",
    "    A = 1.8 \n",
    "    E_a = 50 \n",
    "    delta = 0\n",
    "    R = 8.314 #j/mol\n",
    "    G_average = A*np.exp(E_a/R*(1/T_ave-1/300))*1/(dt**(1-delta))\n",
    "    return G_average"
   ]
  },
  {
   "cell_type": "code",
   "execution_count": 14,
   "metadata": {},
   "outputs": [
    {
     "data": {
      "text/plain": [
       "Text(0.5, 1.0, 'Average Calcification Rate over 10 Years')"
      ]
     },
     "execution_count": 14,
     "metadata": {},
     "output_type": "execute_result"
    },
    {
     "data": {
      "image/png": "[encoded data removed]",
      "text/plain": [
       "<Figure size 432x288 with 1 Axes>"
      ]
     },
     "metadata": {
      "needs_background": "light"
     },
     "output_type": "display_data"
    }
   ],
   "source": [
    "t = np.linspace(1,10,10)\n",
    "#dt = np.zeros(10)\n",
    "#for i in range(10): \n",
    "#    dt[i] = random.randint(1,20)\n",
    "dt = [4, 5.2, 6.2,6.1, 5.3,6.8,6.1,6.3,5.1,6.3,7]\n",
    "temp = [29,28, 29.7, 30.3, 31.8, 28, 28, 28, 28, 28]\n",
    "G_avg = []\n",
    "for i in range(10): \n",
    "    G_avg.append(avg_calcification(dt[i], temp[i]))\n",
    "plt.plot(t,G_avg)\n",
    "plt.title('Average Calcification Rate over 10 Years')"
   ]
  },
  {
   "cell_type": "code",
   "execution_count": null,
   "metadata": {},
   "outputs": [],
   "source": []
  },
  {
   "cell_type": "code",
   "execution_count": null,
   "metadata": {},
   "outputs": [],
   "source": []
  },
  {
   "cell_type": "code",
   "execution_count": null,
   "metadata": {},
   "outputs": [],
   "source": []
  }
 ],
 "metadata": {
  "kernelspec": {
   "display_name": "Python 3",
   "language": "python",
   "name": "python3"
  },
  "language_info": {
   "codemirror_mode": {
    "name": "ipython",
    "version": 3
   },
   "file_extension": ".py",
   "mimetype": "text/x-python",
   "name": "python",
   "nbconvert_exporter": "python",
   "pygments_lexer": "ipython3",
   "version": "3.7.4"
  }
 },
 "nbformat": 4,
 "nbformat_minor": 2
}
